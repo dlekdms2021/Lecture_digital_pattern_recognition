{
 "cells": [
  {
   "cell_type": "code",
   "execution_count": 2,
   "metadata": {},
   "outputs": [],
   "source": [
    "# import libraries\n",
    "\n",
    "import pandas as pd \n",
    "import numpy as np\n",
    "import matplotlib.pyplot as plt\n",
    "\n",
    "from sklearn.model_selection import train_test_split\n",
    "from sklearn.linear_model import LogisticRegression, LinearRegression\n",
    "import statsmodels.api as sm"
   ]
  },
  {
   "cell_type": "code",
   "execution_count": null,
   "metadata": {},
   "outputs": [
    {
     "data": {
      "text/html": [
       "<div>\n",
       "<style scoped>\n",
       "    .dataframe tbody tr th:only-of-type {\n",
       "        vertical-align: middle;\n",
       "    }\n",
       "\n",
       "    .dataframe tbody tr th {\n",
       "        vertical-align: top;\n",
       "    }\n",
       "\n",
       "    .dataframe thead th {\n",
       "        text-align: right;\n",
       "    }\n",
       "</style>\n",
       "<table border=\"1\" class=\"dataframe\">\n",
       "  <thead>\n",
       "    <tr style=\"text-align: right;\">\n",
       "      <th></th>\n",
       "      <th>Unnamed: 0</th>\n",
       "      <th>Age</th>\n",
       "      <th>Sex</th>\n",
       "      <th>RestBP</th>\n",
       "      <th>Chol</th>\n",
       "      <th>Fbs</th>\n",
       "      <th>RestECG</th>\n",
       "      <th>MaxHR</th>\n",
       "      <th>ExAng</th>\n",
       "      <th>Oldpeak</th>\n",
       "      <th>Slope</th>\n",
       "      <th>Ca</th>\n",
       "      <th>AHD</th>\n",
       "    </tr>\n",
       "  </thead>\n",
       "  <tbody>\n",
       "    <tr>\n",
       "      <th>count</th>\n",
       "      <td>303.000000</td>\n",
       "      <td>303.000000</td>\n",
       "      <td>303.000000</td>\n",
       "      <td>303.000000</td>\n",
       "      <td>303.000000</td>\n",
       "      <td>303.000000</td>\n",
       "      <td>303.000000</td>\n",
       "      <td>303.000000</td>\n",
       "      <td>303.000000</td>\n",
       "      <td>303.000000</td>\n",
       "      <td>303.000000</td>\n",
       "      <td>299.000000</td>\n",
       "      <td>303.000000</td>\n",
       "    </tr>\n",
       "    <tr>\n",
       "      <th>mean</th>\n",
       "      <td>152.000000</td>\n",
       "      <td>54.438944</td>\n",
       "      <td>0.679868</td>\n",
       "      <td>131.689769</td>\n",
       "      <td>246.693069</td>\n",
       "      <td>0.148515</td>\n",
       "      <td>0.990099</td>\n",
       "      <td>149.607261</td>\n",
       "      <td>0.326733</td>\n",
       "      <td>1.039604</td>\n",
       "      <td>1.600660</td>\n",
       "      <td>0.672241</td>\n",
       "      <td>0.458746</td>\n",
       "    </tr>\n",
       "    <tr>\n",
       "      <th>std</th>\n",
       "      <td>87.612784</td>\n",
       "      <td>9.038662</td>\n",
       "      <td>0.467299</td>\n",
       "      <td>17.599748</td>\n",
       "      <td>51.776918</td>\n",
       "      <td>0.356198</td>\n",
       "      <td>0.994971</td>\n",
       "      <td>22.875003</td>\n",
       "      <td>0.469794</td>\n",
       "      <td>1.161075</td>\n",
       "      <td>0.616226</td>\n",
       "      <td>0.937438</td>\n",
       "      <td>0.499120</td>\n",
       "    </tr>\n",
       "    <tr>\n",
       "      <th>min</th>\n",
       "      <td>1.000000</td>\n",
       "      <td>29.000000</td>\n",
       "      <td>0.000000</td>\n",
       "      <td>94.000000</td>\n",
       "      <td>126.000000</td>\n",
       "      <td>0.000000</td>\n",
       "      <td>0.000000</td>\n",
       "      <td>71.000000</td>\n",
       "      <td>0.000000</td>\n",
       "      <td>0.000000</td>\n",
       "      <td>1.000000</td>\n",
       "      <td>0.000000</td>\n",
       "      <td>0.000000</td>\n",
       "    </tr>\n",
       "    <tr>\n",
       "      <th>25%</th>\n",
       "      <td>76.500000</td>\n",
       "      <td>48.000000</td>\n",
       "      <td>0.000000</td>\n",
       "      <td>120.000000</td>\n",
       "      <td>211.000000</td>\n",
       "      <td>0.000000</td>\n",
       "      <td>0.000000</td>\n",
       "      <td>133.500000</td>\n",
       "      <td>0.000000</td>\n",
       "      <td>0.000000</td>\n",
       "      <td>1.000000</td>\n",
       "      <td>0.000000</td>\n",
       "      <td>0.000000</td>\n",
       "    </tr>\n",
       "    <tr>\n",
       "      <th>50%</th>\n",
       "      <td>152.000000</td>\n",
       "      <td>56.000000</td>\n",
       "      <td>1.000000</td>\n",
       "      <td>130.000000</td>\n",
       "      <td>241.000000</td>\n",
       "      <td>0.000000</td>\n",
       "      <td>1.000000</td>\n",
       "      <td>153.000000</td>\n",
       "      <td>0.000000</td>\n",
       "      <td>0.800000</td>\n",
       "      <td>2.000000</td>\n",
       "      <td>0.000000</td>\n",
       "      <td>0.000000</td>\n",
       "    </tr>\n",
       "    <tr>\n",
       "      <th>75%</th>\n",
       "      <td>227.500000</td>\n",
       "      <td>61.000000</td>\n",
       "      <td>1.000000</td>\n",
       "      <td>140.000000</td>\n",
       "      <td>275.000000</td>\n",
       "      <td>0.000000</td>\n",
       "      <td>2.000000</td>\n",
       "      <td>166.000000</td>\n",
       "      <td>1.000000</td>\n",
       "      <td>1.600000</td>\n",
       "      <td>2.000000</td>\n",
       "      <td>1.000000</td>\n",
       "      <td>1.000000</td>\n",
       "    </tr>\n",
       "    <tr>\n",
       "      <th>max</th>\n",
       "      <td>303.000000</td>\n",
       "      <td>77.000000</td>\n",
       "      <td>1.000000</td>\n",
       "      <td>200.000000</td>\n",
       "      <td>564.000000</td>\n",
       "      <td>1.000000</td>\n",
       "      <td>2.000000</td>\n",
       "      <td>202.000000</td>\n",
       "      <td>1.000000</td>\n",
       "      <td>6.200000</td>\n",
       "      <td>3.000000</td>\n",
       "      <td>3.000000</td>\n",
       "      <td>1.000000</td>\n",
       "    </tr>\n",
       "  </tbody>\n",
       "</table>\n",
       "</div>"
      ],
      "text/plain": [
       "       Unnamed: 0         Age         Sex      RestBP        Chol         Fbs  \\\n",
       "count  303.000000  303.000000  303.000000  303.000000  303.000000  303.000000   \n",
       "mean   152.000000   54.438944    0.679868  131.689769  246.693069    0.148515   \n",
       "std     87.612784    9.038662    0.467299   17.599748   51.776918    0.356198   \n",
       "min      1.000000   29.000000    0.000000   94.000000  126.000000    0.000000   \n",
       "25%     76.500000   48.000000    0.000000  120.000000  211.000000    0.000000   \n",
       "50%    152.000000   56.000000    1.000000  130.000000  241.000000    0.000000   \n",
       "75%    227.500000   61.000000    1.000000  140.000000  275.000000    0.000000   \n",
       "max    303.000000   77.000000    1.000000  200.000000  564.000000    1.000000   \n",
       "\n",
       "          RestECG       MaxHR       ExAng     Oldpeak       Slope          Ca  \\\n",
       "count  303.000000  303.000000  303.000000  303.000000  303.000000  299.000000   \n",
       "mean     0.990099  149.607261    0.326733    1.039604    1.600660    0.672241   \n",
       "std      0.994971   22.875003    0.469794    1.161075    0.616226    0.937438   \n",
       "min      0.000000   71.000000    0.000000    0.000000    1.000000    0.000000   \n",
       "25%      0.000000  133.500000    0.000000    0.000000    1.000000    0.000000   \n",
       "50%      1.000000  153.000000    0.000000    0.800000    2.000000    0.000000   \n",
       "75%      2.000000  166.000000    1.000000    1.600000    2.000000    1.000000   \n",
       "max      2.000000  202.000000    1.000000    6.200000    3.000000    3.000000   \n",
       "\n",
       "              AHD  \n",
       "count  303.000000  \n",
       "mean     0.458746  \n",
       "std      0.499120  \n",
       "min      0.000000  \n",
       "25%      0.000000  \n",
       "50%      0.000000  \n",
       "75%      1.000000  \n",
       "max      1.000000  "
      ]
     },
     "execution_count": 4,
     "metadata": {},
     "output_type": "execute_result"
    }
   ],
   "source": [
    "heart = pd.read_csv('./data_heart/Heart.csv')\n",
    "\n",
    "# Force the response into a binary indicator:\n",
    "heart['AHD'] = 1*(heart['AHD'] == \"Yes\")\n",
    "\n",
    "heart.describe()"
   ]
  },
  {
   "cell_type": "code",
   "execution_count": 5,
   "metadata": {},
   "outputs": [
    {
     "data": {
      "image/png": "[encoded data removed]",
      "text/plain": [
       "<Figure size 640x480 with 1 Axes>"
      ]
     },
     "metadata": {},
     "output_type": "display_data"
    }
   ],
   "source": [
    "# Make a plot of the response (AHD) vs the predictor (Age)\n",
    "\n",
    "plt.plot(heart[['Age']].values, heart['AHD'].values ,'o', markersize=7,color=\"#011DAD\",label=\"Data\")\n",
    "\n",
    "plt.xticks(np.arange(18, 80, 4.0))\n",
    "plt.xlabel(\"Age\")\n",
    "plt.ylabel(\"AHD\")\n",
    "plt.yticks((0,1), labels=('No', 'Yes'))\n",
    "\n",
    "plt.legend()\n",
    "plt.show()"
   ]
  },
  {
   "cell_type": "code",
   "execution_count": 27,
   "metadata": {},
   "outputs": [],
   "source": [
    "# split into train and validation\n",
    "heart_train, heart_val = train_test_split(heart, train_size = 0.75, random_state = 5)\n",
    "\n",
    "# select variables for model estimation\n",
    "x_train = heart_train[['MaxHR']]\n",
    "y_train = heart_train['AHD']\n",
    "\n",
    "x_val = heart_val[['MaxHR']]\n",
    "y_val = heart_val['AHD']"
   ]
  },
  {
   "cell_type": "markdown",
   "metadata": {},
   "source": [
    "### Simple linear regression model fitting\n",
    "\n",
    "Define and fit a linear regression model to predict `Age` from `MaxHR`."
   ]
  },
  {
   "cell_type": "code",
   "execution_count": 28,
   "metadata": {},
   "outputs": [
    {
     "name": "stdout",
     "output_type": "stream",
     "text": [
      "Linear Regression Estimated Betas: 1.7441310948919715 -0.008479947574049154\n"
     ]
    }
   ],
   "source": [
    "# Create a linear regression model, with random state=5\n",
    "\n",
    "regress1 = LinearRegression(fit_intercept=True).fit(x_train,y_train)\n",
    "\n",
    "print(\"Linear Regression Estimated Betas:\",regress1.intercept_,regress1.coef_[0])"
   ]
  },
  {
   "cell_type": "code",
   "execution_count": 29,
   "metadata": {},
   "outputs": [
    {
     "name": "stderr",
     "output_type": "stream",
     "text": [
      "c:\\Users\\kyungho\\anaconda3\\envs\\lecture_data\\Lib\\site-packages\\sklearn\\utils\\validation.py:2739: UserWarning: X does not have valid feature names, but LinearRegression was fitted with feature names\n",
      "  warnings.warn(\n"
     ]
    },
    {
     "data": {
      "image/png": "[encoded data removed]",
      "text/plain": [
       "<Figure size 640x480 with 1 Axes>"
      ]
     },
     "metadata": {},
     "output_type": "display_data"
    }
   ],
   "source": [
    "# Plot the estimated probability for training data\n",
    "dummy_x=np.linspace(np.min(x_train)-30,np.max(x_train)+30)\n",
    "yhat_regress = regress1.predict(dummy_x.reshape(-1,1))\n",
    "plt.plot(x_train, y_train, 'o' ,alpha=0.2, label='Data')\n",
    "plt.plot(dummy_x, yhat_regress, label = \"OLS\")\n",
    "\n",
    "plt.ylim(-0.2, 1.2)\n",
    "plt.show()"
   ]
  },
  {
   "cell_type": "markdown",
   "metadata": {},
   "source": [
    "### What could go wrong with this linear regression model? "
   ]
  },
  {
   "cell_type": "markdown",
   "metadata": {},
   "source": [
    "*your answer here*"
   ]
  },
  {
   "cell_type": "markdown",
   "metadata": {},
   "source": [
    "### Simple logisitc regression model fitting\n",
    "\n",
    "Define and fit a logistic regression model with random state=5 to predict `Age` from `MaxHR`."
   ]
  },
  {
   "cell_type": "code",
   "execution_count": 30,
   "metadata": {},
   "outputs": [
    {
     "name": "stdout",
     "output_type": "stream",
     "text": [
      "Logistic Regression Estimated Betas (B0,B1): [5.82341351] [[-0.03954458]]\n"
     ]
    }
   ],
   "source": [
    "### edTest(test_logit1) ###\n",
    "# Create a logistic regression model, with random state=5 and no penalty\n",
    "\n",
    "logit1 = LogisticRegression(C=100000, max_iter = 1000, random_state=5)\n",
    "\n",
    "#Fit the model using the training set\n",
    "\n",
    "logit1.fit(x_train,y_train)\n",
    "\n",
    "# Get the coefficient estimates\n",
    "\n",
    "print(\"Logistic Regression Estimated Betas (B0,B1):\",logit1.intercept_,logit1.coef_)"
   ]
  },
  {
   "cell_type": "markdown",
   "metadata": {},
   "source": [
    "### Interpret the Coefficient Estimates"
   ]
  },
  {
   "cell_type": "markdown",
   "metadata": {},
   "source": [
    "### Calculate the estimated probability that a person with age 60 will have AHD in the ICU."
   ]
  },
  {
   "cell_type": "markdown",
   "metadata": {},
   "source": [
    "**your answer here**"
   ]
  },
  {
   "cell_type": "code",
   "execution_count": 31,
   "metadata": {},
   "outputs": [
    {
     "data": {
      "text/plain": [
       "array([[0.73454374, 0.26545626],\n",
       "       [0.47765268, 0.52234732],\n",
       "       [0.79152728, 0.20847272],\n",
       "       [0.66850758, 0.33149242],\n",
       "       [0.35353685, 0.64646315],\n",
       "       [0.63257149, 0.36742851],\n",
       "       [0.53688751, 0.46311249],\n",
       "       [0.7979774 , 0.2020226 ],\n",
       "       [0.69425259, 0.30574741],\n",
       "       [0.26914313, 0.73085687],\n",
       "       [0.59509923, 0.40490077],\n",
       "       [0.29310721, 0.70689279],\n",
       "       [0.53688751, 0.46311249],\n",
       "       [0.11638339, 0.88361661],\n",
       "       [0.25387266, 0.74612734],\n",
       "       [0.6140042 , 0.3859958 ],\n",
       "       [0.40944481, 0.59055519],\n",
       "       [0.6140042 , 0.3859958 ],\n",
       "       [0.44816623, 0.55183377],\n",
       "       [0.70258149, 0.29741851],\n",
       "       [0.26914313, 0.73085687],\n",
       "       [0.86391982, 0.13608018],\n",
       "       [0.3445522 , 0.6554478 ],\n",
       "       [0.72676181, 0.27323819],\n",
       "       [0.64171351, 0.35828649],\n",
       "       [0.65075365, 0.34924635],\n",
       "       [0.62333312, 0.37666688],\n",
       "       [0.62333312, 0.37666688],\n",
       "       [0.59509923, 0.40490077],\n",
       "       [0.64171351, 0.35828649],\n",
       "       [0.30136717, 0.69863283],\n",
       "       [0.89702453, 0.10297547],\n",
       "       [0.63257149, 0.36742851],\n",
       "       [0.74967667, 0.25032333],\n",
       "       [0.49741009, 0.50258991],\n",
       "       [0.65075365, 0.34924635],\n",
       "       [0.54670425, 0.45329575],\n",
       "       [0.64171351, 0.35828649],\n",
       "       [0.65075365, 0.34924635],\n",
       "       [0.44816623, 0.55183377],\n",
       "       [0.7979774 , 0.2020226 ],\n",
       "       [0.63257149, 0.36742851],\n",
       "       [0.57590786, 0.42409214],\n",
       "       [0.64171351, 0.35828649],\n",
       "       [0.64171351, 0.35828649],\n",
       "       [0.585536  , 0.414464  ],\n",
       "       [0.1635993 , 0.8364007 ],\n",
       "       [0.5270421 , 0.4729579 ],\n",
       "       [0.7979774 , 0.2020226 ],\n",
       "       [0.11237797, 0.88762203],\n",
       "       [0.5270421 , 0.4729579 ],\n",
       "       [0.6045908 , 0.3954092 ],\n",
       "       [0.3999183 , 0.6000817 ],\n",
       "       [0.72676181, 0.27323819],\n",
       "       [0.35353685, 0.64646315],\n",
       "       [0.54670425, 0.45329575],\n",
       "       [0.6045908 , 0.3954092 ],\n",
       "       [0.43840761, 0.56159239],\n",
       "       [0.3445522 , 0.6554478 ],\n",
       "       [0.62333312, 0.37666688],\n",
       "       [0.69425259, 0.30574741],\n",
       "       [0.585536  , 0.414464  ],\n",
       "       [0.64171351, 0.35828649],\n",
       "       [0.82228107, 0.17771893],\n",
       "       [0.3097579 , 0.6902421 ],\n",
       "       [0.5564848 , 0.4435152 ],\n",
       "       [0.71883907, 0.28116093],\n",
       "       [0.66850758, 0.33149242],\n",
       "       [0.4286964 , 0.5713036 ],\n",
       "       [0.74218266, 0.25781734],\n",
       "       [0.54670425, 0.45329575],\n",
       "       [0.77817574, 0.22182426],\n",
       "       [0.65968667, 0.34031333],\n",
       "       [0.26143588, 0.73856412],\n",
       "       [0.70258149, 0.29741851],\n",
       "       [0.71883907, 0.28116093]])"
      ]
     },
     "execution_count": 31,
     "metadata": {},
     "output_type": "execute_result"
    }
   ],
   "source": [
    "# Confirm the probability calculation above using logit1.predict()\n",
    "# Be careful as to how you define the new observation.  Hint: double brackets is one way to do it\n",
    "\n",
    "logit1.predict_proba(x_val)"
   ]
  },
  {
   "cell_type": "markdown",
   "metadata": {},
   "source": [
    "### Accuracy computation"
   ]
  },
  {
   "cell_type": "code",
   "execution_count": 32,
   "metadata": {},
   "outputs": [
    {
     "name": "stdout",
     "output_type": "stream",
     "text": [
      "Train Accuracy 0.6916299559471366\n",
      "Validation Accuracy 0.7631578947368421\n"
     ]
    }
   ],
   "source": [
    "### edTest(test_accuracy) ###\n",
    "\n",
    "# Compute the training & validation accuracy \n",
    "\n",
    "train_accuracy = logit1.score(x_train , y_train)\n",
    "val_accuracy = logit1.score(x_val , y_val)\n",
    "\n",
    "# Print the two accuracies below\n",
    "\n",
    "print(\"Train Accuracy\", train_accuracy)\n",
    "print(\"Validation Accuracy\", val_accuracy)"
   ]
  },
  {
   "cell_type": "markdown",
   "metadata": {},
   "source": [
    "### Plot the predictions"
   ]
  },
  {
   "cell_type": "code",
   "execution_count": null,
   "metadata": {},
   "outputs": [
    {
     "name": "stderr",
     "output_type": "stream",
     "text": [
      "c:\\Users\\kyungho\\anaconda3\\envs\\lecture_data\\Lib\\site-packages\\sklearn\\utils\\validation.py:2739: UserWarning: X does not have valid feature names, but LogisticRegression was fitted with feature names\n",
      "  warnings.warn(\n",
      "c:\\Users\\kyungho\\anaconda3\\envs\\lecture_data\\Lib\\site-packages\\sklearn\\utils\\validation.py:2739: UserWarning: X does not have valid feature names, but LogisticRegression was fitted with feature names\n",
      "  warnings.warn(\n"
     ]
    },
    {
     "data": {
      "image/png": "[encoded data removed]",
      "text/plain": [
       "<Figure size 640x480 with 1 Axes>"
      ]
     },
     "metadata": {},
     "output_type": "display_data"
    }
   ],
   "source": [
    "x=np.linspace(np.min(heart[['MaxHR']])-10,np.max(heart[['MaxHR']])+10,200)\n",
    "x = x.reshape(-1,1)\n",
    "\n",
    "yhat_class_logit = logit1.predict(x)\n",
    "yhat_prob_logit = logit1.predict_proba(x)[:,1]\n",
    "\n",
    "# plot the observed data\n",
    "plt.plot(x_train, y_train, 'o' ,alpha=0.1, label='Train Data')\n",
    "plt.plot(x_val, 0.94*y_val+0.03, 'o' ,alpha=0.1, label='Validation Data')\n",
    "\n",
    "# plot the predictions\n",
    "plt.plot(x, yhat_class_logit, label='logit1 Classifications')\n",
    "plt.plot(x, yhat_prob_logit, label='logit1 Probabilities')\n",
    "\n",
    "# put the lower-left part of the legend 5% to the right along the x-axis, and 45% up along the y-axis\n",
    "plt.legend(loc=(0.05,0.45))\n",
    "\n",
    "# Don't forget your axis labels!\n",
    "plt.xlabel(\"MaxHR\")\n",
    "plt.ylabel(\"Heart disease (AHD)\")\n",
    "\n",
    "plt.show()\n"
   ]
  },
  {
   "cell_type": "markdown",
   "metadata": {},
   "source": [
    "### Statistical Inference\n",
    "Train a new logistic regression model using statsmodels package. Print model summary and interpret the results."
   ]
  },
  {
   "cell_type": "code",
   "execution_count": 35,
   "metadata": {},
   "outputs": [
    {
     "name": "stdout",
     "output_type": "stream",
     "text": [
      "Optimization terminated successfully.\n",
      "         Current function value: 0.608738\n",
      "         Iterations 5\n",
      "                           Logit Regression Results                           \n",
      "==============================================================================\n",
      "Dep. Variable:                    AHD   No. Observations:                  227\n",
      "Model:                          Logit   Df Residuals:                      225\n",
      "Method:                           MLE   Df Model:                            1\n",
      "Date:                Wed, 07 May 2025   Pseudo R-squ.:                  0.1215\n",
      "Time:                        11:53:17   Log-Likelihood:                -138.18\n",
      "converged:                       True   LL-Null:                       -157.29\n",
      "Covariance Type:            nonrobust   LLR p-value:                 6.348e-10\n",
      "==============================================================================\n",
      "                 coef    std err          z      P>|z|      [0.025      0.975]\n",
      "------------------------------------------------------------------------------\n",
      "const          5.8234      1.073      5.426      0.000       3.720       7.927\n",
      "MaxHR         -0.0395      0.007     -5.543      0.000      -0.054      -0.026\n",
      "==============================================================================\n"
     ]
    }
   ],
   "source": [
    "### edTest(test_logit2) ###\n",
    "# adding a column of ones to X\n",
    "x_train_with_constant = sm.add_constant(x_train)\n",
    "x_val_with_constant = sm.add_constant(x_val)\n",
    "\n",
    "# train a new model using statsmodels package\n",
    "logreg = sm.Logit(y_train, x_train_with_constant).fit()\n",
    "print(logreg.summary())\n"
   ]
  }
 ],
 "metadata": {
  "kernelspec": {
   "display_name": "lecture_data",
   "language": "python",
   "name": "python3"
  },
  "language_info": {
   "codemirror_mode": {
    "name": "ipython",
    "version": 3
   },
   "file_extension": ".py",
   "mimetype": "text/x-python",
   "name": "python",
   "nbconvert_exporter": "python",
   "pygments_lexer": "ipython3",
   "version": "3.13.2"
  }
 },
 "nbformat": 4,
 "nbformat_minor": 1
}
