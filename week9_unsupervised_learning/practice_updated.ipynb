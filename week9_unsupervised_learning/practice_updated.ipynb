{
 "cells": [
  {
   "cell_type": "code",
   "execution_count": 1,
   "id": "aa018ee1",
   "metadata": {},
   "outputs": [],
   "source": [
    "\n",
    "# 📦 Import necessary libraries\n",
    "import numpy as np\n",
    "import matplotlib.pyplot as plt\n",
    "from sklearn.datasets import make_blobs\n",
    "from sklearn.mixture import GaussianMixture\n",
    "from matplotlib.patches import Ellipse\n"
   ]
  },
  {
   "cell_type": "code",
   "execution_count": 2,
   "id": "44c6c3c3",
   "metadata": {},
   "outputs": [],
   "source": [
    "\n",
    "# 🎯 Generate overlapping blob data for GMM demonstration\n",
    "X, _ = make_blobs(n_samples=300, centers=[[-2, 0], [0, 0], [2, 0]],\n",
    "                  cluster_std=1.2, random_state=42)\n"
   ]
  },
  {
   "cell_type": "code",
   "execution_count": 3,
   "id": "52e3646e",
   "metadata": {},
   "outputs": [],
   "source": [
    "\n",
    "# 🧠 Run GMM using EM algorithm with center tracking\n",
    "def run_em_with_tracking(X, n_components, max_iter):\n",
    "    gmm = GaussianMixture(n_components=n_components, covariance_type='full',\n",
    "                          max_iter=1, warm_start=True, random_state=42)\n",
    "    mean_trace = []\n",
    "    for _ in range(max_iter):\n",
    "        gmm.fit(X)\n",
    "        mean_trace.append(gmm.means_.copy())\n",
    "    return gmm, mean_trace\n"
   ]
  },
  {
   "cell_type": "code",
   "execution_count": 5,
   "id": "ebc56828",
   "metadata": {},
   "outputs": [
    {
     "name": "stderr",
     "output_type": "stream",
     "text": [
      "c:\\Users\\kyungho\\anaconda3\\envs\\lecture_data\\Lib\\site-packages\\sklearn\\mixture\\_base.py:269: ConvergenceWarning: Best performing initialization did not converge. Try different init parameters, or increase max_iter, tol, or check for degenerate data.\n",
      "  warnings.warn(\n",
      "c:\\Users\\kyungho\\anaconda3\\envs\\lecture_data\\Lib\\site-packages\\sklearn\\mixture\\_base.py:269: ConvergenceWarning: Best performing initialization did not converge. Try different init parameters, or increase max_iter, tol, or check for degenerate data.\n",
      "  warnings.warn(\n",
      "c:\\Users\\kyungho\\anaconda3\\envs\\lecture_data\\Lib\\site-packages\\sklearn\\mixture\\_base.py:269: ConvergenceWarning: Best performing initialization did not converge. Try different init parameters, or increase max_iter, tol, or check for degenerate data.\n",
      "  warnings.warn(\n",
      "c:\\Users\\kyungho\\anaconda3\\envs\\lecture_data\\Lib\\site-packages\\sklearn\\mixture\\_base.py:269: ConvergenceWarning: Best performing initialization did not converge. Try different init parameters, or increase max_iter, tol, or check for degenerate data.\n",
      "  warnings.warn(\n"
     ]
    }
   ],
   "source": [
    "\n",
    "# ▶️ Fit GMM with tracking over 10 iterations\n",
    "max_iter = 10\n",
    "gmm_final, trace_means = run_em_with_tracking(X, n_components=3, max_iter=max_iter)\n"
   ]
  },
  {
   "cell_type": "code",
   "execution_count": 6,
   "id": "fe0ced86",
   "metadata": {},
   "outputs": [],
   "source": [
    "\n",
    "# 🖼️ Plot GMM density and trace of cluster centers\n",
    "def plot_gmm_trajectory(X, gmm, trace, title=\"\"):\n",
    "    colors = ['r', 'g', 'b']\n",
    "    fig, ax = plt.subplots(figsize=(8, 6))\n",
    "\n",
    "    # Create contour map of Gaussian density\n",
    "    x = np.linspace(X[:, 0].min() - 1.5, X[:, 0].max() + 1.5, 300)\n",
    "    y = np.linspace(X[:, 1].min() - 1.5, X[:, 1].max() + 1.5, 300)\n",
    "    X_grid, Y_grid = np.meshgrid(x, y)\n",
    "    XX = np.array([X_grid.ravel(), Y_grid.ravel()]).T\n",
    "    Z = -gmm.score_samples(XX).reshape(X_grid.shape)\n",
    "    ax.contourf(X_grid, Y_grid, np.exp(-Z), levels=40, cmap='viridis', alpha=0.5)\n",
    "\n",
    "    # Plot data points\n",
    "    ax.scatter(X[:, 0], X[:, 1], s=10, c='gray', alpha=0.5)\n",
    "\n",
    "    # Plot traced cluster centers\n",
    "    trace = np.array(trace)\n",
    "    for k in range(gmm.n_components):\n",
    "        path = trace[:, k, :]\n",
    "        ax.plot(path[:, 0], path[:, 1], color=colors[k], linewidth=2.5)\n",
    "        ax.scatter(path[:, 0], path[:, 1], color=colors[k], s=50, edgecolor='black', label=f'Cluster {k+1}')\n",
    "\n",
    "    ax.set_title(title)\n",
    "    ax.set_xlabel(\"Feature 1\")\n",
    "    ax.set_ylabel(\"Feature 2\")\n",
    "    ax.set_xlim(-5, 5)\n",
    "    ax.set_ylim(-4, 4)\n",
    "    ax.legend()\n",
    "    ax.grid(True)\n",
    "    plt.tight_layout()\n",
    "    plt.show()\n"
   ]
  },
  {
   "cell_type": "code",
   "execution_count": 8,
   "id": "0007a9a4",
   "metadata": {},
   "outputs": [],
   "source": [
    "%matplotlib qt"
   ]
  },
  {
   "cell_type": "code",
   "execution_count": 9,
   "id": "ea0bb3c3",
   "metadata": {},
   "outputs": [],
   "source": [
    "\n",
    "# 📊 Show final EM result with center movement trajectories\n",
    "plot_gmm_trajectory(X, gmm_final, trace_means, title=\"GMM Center Trajectories on Overlapping Data\")\n"
   ]
  }
 ],
 "metadata": {
  "kernelspec": {
   "display_name": "lecture_data",
   "language": "python",
   "name": "python3"
  },
  "language_info": {
   "codemirror_mode": {
    "name": "ipython",
    "version": 3
   },
   "file_extension": ".py",
   "mimetype": "text/x-python",
   "name": "python",
   "nbconvert_exporter": "python",
   "pygments_lexer": "ipython3",
   "version": "3.13.2"
  }
 },
 "nbformat": 4,
 "nbformat_minor": 5
}
